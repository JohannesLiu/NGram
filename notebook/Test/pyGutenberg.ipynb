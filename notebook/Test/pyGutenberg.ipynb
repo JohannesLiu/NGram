{
 "cells": [
  {
   "cell_type": "code",
   "execution_count": 1,
   "id": "initial_id",
   "metadata": {
    "collapsed": true,
    "ExecuteTime": {
     "end_time": "2023-10-10T14:39:38.049525888Z",
     "start_time": "2023-10-10T14:39:36.911828090Z"
    }
   },
   "outputs": [
    {
     "ename": "TypeError",
     "evalue": "'type' object is not subscriptable",
     "output_type": "error",
     "traceback": [
      "\u001B[0;31m---------------------------------------------------------------------------\u001B[0m",
      "\u001B[0;31mTypeError\u001B[0m                                 Traceback (most recent call last)",
      "Cell \u001B[0;32mIn[1], line 1\u001B[0m\n\u001B[0;32m----> 1\u001B[0m \u001B[38;5;28;01mimport\u001B[39;00m \u001B[38;5;21;01mgutenberg\u001B[39;00m\n",
      "File \u001B[0;32m~/anaconda3/envs/naturalness/lib/python3.8/site-packages/gutenberg/__init__.py:3\u001B[0m\n\u001B[1;32m      1\u001B[0m __version__ \u001B[38;5;241m=\u001B[39m \u001B[38;5;124m\"\u001B[39m\u001B[38;5;124m1.0.3\u001B[39m\u001B[38;5;124m\"\u001B[39m\n\u001B[0;32m----> 3\u001B[0m \u001B[38;5;28;01mfrom\u001B[39;00m \u001B[38;5;21;01m.\u001B[39;00m\u001B[38;5;21;01mmain\u001B[39;00m \u001B[38;5;28;01mimport\u001B[39;00m \u001B[38;5;241m*\u001B[39m\n",
      "File \u001B[0;32m~/anaconda3/envs/naturalness/lib/python3.8/site-packages/gutenberg/main.py:6\u001B[0m\n\u001B[1;32m      1\u001B[0m \u001B[38;5;28;01mimport\u001B[39;00m \u001B[38;5;21;01mrequests\u001B[39;00m\n\u001B[1;32m      3\u001B[0m \u001B[38;5;28;01mfrom\u001B[39;00m \u001B[38;5;21;01m.\u001B[39;00m\u001B[38;5;21;01mmodels\u001B[39;00m \u001B[38;5;28;01mimport\u001B[39;00m APIException, Book\n\u001B[0;32m----> 6\u001B[0m \u001B[38;5;28;01mclass\u001B[39;00m \u001B[38;5;21;01mGutenbergAPI\u001B[39;00m:\n\u001B[1;32m      7\u001B[0m     \u001B[38;5;66;03m# === DISCLAIMER ===\u001B[39;00m\n\u001B[1;32m      8\u001B[0m     \u001B[38;5;66;03m# This library is built on the amazing Gutendex project, but the only two\u001B[39;00m\n\u001B[1;32m      9\u001B[0m     \u001B[38;5;66;03m# public instances are hosted by me (https://gutendex.devbranch.co) and by\u001B[39;00m\n\u001B[1;32m     10\u001B[0m     \u001B[38;5;66;03m# the developer of Gutendex (https://gutendex.com). If you can, PLEASE self-host.\u001B[39;00m\n\u001B[1;32m     11\u001B[0m     \u001B[38;5;66;03m# The instructions for doing so can be found here:\u001B[39;00m\n\u001B[1;32m     12\u001B[0m     \u001B[38;5;66;03m# https://github.com/garethbjohnson/gutendex/wiki/Installation-Guide\u001B[39;00m\n\u001B[1;32m     13\u001B[0m     \u001B[38;5;28;01mdef\u001B[39;00m \u001B[38;5;21m__init__\u001B[39m(\u001B[38;5;28mself\u001B[39m, instance_url\u001B[38;5;241m=\u001B[39m\u001B[38;5;124m\"\u001B[39m\u001B[38;5;124mhttps://gutendex.devbranch.co\u001B[39m\u001B[38;5;124m\"\u001B[39m):\n\u001B[1;32m     14\u001B[0m         \u001B[38;5;28mself\u001B[39m\u001B[38;5;241m.\u001B[39minstance_url \u001B[38;5;241m=\u001B[39m instance_url\n",
      "File \u001B[0;32m~/anaconda3/envs/naturalness/lib/python3.8/site-packages/gutenberg/main.py:22\u001B[0m, in \u001B[0;36mGutenbergAPI\u001B[0;34m()\u001B[0m\n\u001B[1;32m     14\u001B[0m     \u001B[38;5;28mself\u001B[39m\u001B[38;5;241m.\u001B[39minstance_url \u001B[38;5;241m=\u001B[39m instance_url\n\u001B[1;32m     16\u001B[0m \u001B[38;5;66;03m# Methods for getting or searching for lists of books\u001B[39;00m\n\u001B[1;32m     17\u001B[0m \u001B[38;5;28;01mdef\u001B[39;00m \u001B[38;5;21m__get_books\u001B[39m(\n\u001B[1;32m     18\u001B[0m     \u001B[38;5;28mself\u001B[39m,\n\u001B[1;32m     19\u001B[0m     author_year_start: \u001B[38;5;28mint\u001B[39m \u001B[38;5;241m=\u001B[39m \u001B[38;5;28;01mNone\u001B[39;00m,\n\u001B[1;32m     20\u001B[0m     author_year_end: \u001B[38;5;28mint\u001B[39m \u001B[38;5;241m=\u001B[39m \u001B[38;5;28;01mNone\u001B[39;00m,\n\u001B[1;32m     21\u001B[0m     copyright: \u001B[38;5;28mstr\u001B[39m \u001B[38;5;241m=\u001B[39m \u001B[38;5;28;01mNone\u001B[39;00m,\n\u001B[0;32m---> 22\u001B[0m     ids: \u001B[38;5;28;43mlist\u001B[39;49m\u001B[43m[\u001B[49m\u001B[38;5;28;43mint\u001B[39;49m\u001B[43m]\u001B[49m \u001B[38;5;241m=\u001B[39m \u001B[38;5;28;01mNone\u001B[39;00m,\n\u001B[1;32m     23\u001B[0m     languages: \u001B[38;5;28mlist\u001B[39m[\u001B[38;5;28mstr\u001B[39m] \u001B[38;5;241m=\u001B[39m \u001B[38;5;28;01mNone\u001B[39;00m,\n\u001B[1;32m     24\u001B[0m     mime_type: \u001B[38;5;28mstr\u001B[39m \u001B[38;5;241m=\u001B[39m \u001B[38;5;28;01mNone\u001B[39;00m,\n\u001B[1;32m     25\u001B[0m     search: \u001B[38;5;28mstr\u001B[39m \u001B[38;5;241m=\u001B[39m \u001B[38;5;28;01mNone\u001B[39;00m,\n\u001B[1;32m     26\u001B[0m     sort: \u001B[38;5;28mstr\u001B[39m \u001B[38;5;241m=\u001B[39m \u001B[38;5;28;01mNone\u001B[39;00m,\n\u001B[1;32m     27\u001B[0m     topic: \u001B[38;5;28mstr\u001B[39m \u001B[38;5;241m=\u001B[39m \u001B[38;5;28;01mNone\u001B[39;00m,\n\u001B[1;32m     28\u001B[0m     limit\u001B[38;5;241m=\u001B[39m\u001B[38;5;241m32\u001B[39m,\n\u001B[1;32m     29\u001B[0m ):\n\u001B[1;32m     30\u001B[0m     endpoint \u001B[38;5;241m=\u001B[39m \u001B[38;5;28mself\u001B[39m\u001B[38;5;241m.\u001B[39minstance_url \u001B[38;5;241m+\u001B[39m \u001B[38;5;124m\"\u001B[39m\u001B[38;5;124m/books\u001B[39m\u001B[38;5;124m\"\u001B[39m\n\u001B[1;32m     31\u001B[0m     response \u001B[38;5;241m=\u001B[39m requests\u001B[38;5;241m.\u001B[39mget(\n\u001B[1;32m     32\u001B[0m         endpoint,\n\u001B[1;32m     33\u001B[0m         params\u001B[38;5;241m=\u001B[39m{\n\u001B[0;32m   (...)\u001B[0m\n\u001B[1;32m     44\u001B[0m         timeout\u001B[38;5;241m=\u001B[39m\u001B[38;5;241m30\u001B[39m,\n\u001B[1;32m     45\u001B[0m     )\n",
      "\u001B[0;31mTypeError\u001B[0m: 'type' object is not subscriptable"
     ]
    }
   ],
   "source": [
    "import gutenberg"
   ]
  },
  {
   "cell_type": "code",
   "execution_count": null,
   "outputs": [],
   "source": [],
   "metadata": {
    "collapsed": false
   },
   "id": "f6573a7172f7ae1"
  }
 ],
 "metadata": {
  "kernelspec": {
   "display_name": "Python 3",
   "language": "python",
   "name": "python3"
  },
  "language_info": {
   "codemirror_mode": {
    "name": "ipython",
    "version": 2
   },
   "file_extension": ".py",
   "mimetype": "text/x-python",
   "name": "python",
   "nbconvert_exporter": "python",
   "pygments_lexer": "ipython2",
   "version": "2.7.6"
  }
 },
 "nbformat": 4,
 "nbformat_minor": 5
}
